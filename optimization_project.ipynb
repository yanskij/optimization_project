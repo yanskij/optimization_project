{
 "cells": [
  {
   "cell_type": "markdown",
   "metadata": {},
   "source": [
    "We have a problem. We don't have normal input for our problem and check something \"by hands\" is also complicated, because of problem is too hard to get an analytic solutuion. Sorry :("
   ]
  },
  {
   "cell_type": "code",
   "execution_count": 2,
   "metadata": {},
   "outputs": [],
   "source": [
    "import numpy as np\n",
    "import scipy.stats as sps\n",
    "from cvxopt import solvers, matrix"
   ]
  },
  {
   "cell_type": "code",
   "execution_count": 56,
   "metadata": {},
   "outputs": [],
   "source": [
    "n = 2 # number of points\n",
    "A = np.diag(np.zeros(n) + 1) + np.diag(np.zeros(n - 1) + 1, k=-1)\n",
    "theta = np.pi / 2 # given theta_1, other theta_i comes our from theta_1"
   ]
  },
  {
   "cell_type": "code",
   "execution_count": 57,
   "metadata": {},
   "outputs": [],
   "source": [
    "l = np.array([1, 1])\n",
    "b = np.array([theta, np.pi])\n",
    "x_start = np.linalg.inv(A) @ b"
   ]
  },
  {
   "cell_type": "code",
   "execution_count": 59,
   "metadata": {},
   "outputs": [
    {
     "data": {
      "text/plain": [
       "array([1.57079633, 3.14159265])"
      ]
     },
     "execution_count": 59,
     "metadata": {},
     "output_type": "execute_result"
    }
   ],
   "source": []
  },
  {
   "cell_type": "code",
   "execution_count": 36,
   "metadata": {},
   "outputs": [],
   "source": [
    "l = sps.uniform(loc=1, scale=10).rvs(size=10) # distances between a_i\n",
    "b = np.concatenate((np.array([theta]), np.array(sps.uniform(loc=-np.pi, scale=2 * np.pi).rvs(size=9)))) # matrix of theta_1 and \\psi_i\n",
    "x_start = np.linalg.inv(A) @ b"
   ]
  },
  {
   "cell_type": "markdown",
   "metadata": {},
   "source": [
    "Our real function to minimize and it's derivative. We drop the first coordinate because $\\psi_1$ doesn't defined. Derivative of F in zero we define as a limit of $\\frac{\\sin x}{x} = 1$."
   ]
  },
  {
   "cell_type": "code",
   "execution_count": 77,
   "metadata": {},
   "outputs": [],
   "source": [
    "def F(x, l):\n",
    "    x = x[1:]\n",
    "    l = l[1:]\n",
    "    return np.sum(l * x / np.sin(x))\n",
    "\n",
    "def dF(x, l):\n",
    "    x = x[1:]\n",
    "    l = l[1:]\n",
    "    return np.concatenate(([0], l * (np.sin(x) - x * np.cos(x)) / np.sin(x) ** 2))\n",
    "\n",
    "def hessian(x, l):\n",
    "    x = x[1:]\n",
    "    l = l[1:]\n",
    "    return np.diag(np.concatenate(([0], l * (1 + 2 * x * np.cos(x) ** 2) / np.sin(x) ** 3)))"
   ]
  },
  {
   "cell_type": "markdown",
   "metadata": {},
   "source": [
    "Function from cvxopt"
   ]
  },
  {
   "cell_type": "code",
   "execution_count": 6,
   "metadata": {},
   "outputs": [],
   "source": [
    "def acent(A, b):\n",
    "    return solvers.cp(F, A=A, b=b)['x']"
   ]
  },
  {
   "cell_type": "code",
   "execution_count": 78,
   "metadata": {},
   "outputs": [],
   "source": [
    "def gradient_descent(x_start, eps=1e-4, alpha = 1e-2):\n",
    "    step_counter = 0\n",
    "    x_cur = x_start\n",
    "    x_new = x_cur - alpha * dF(x_cur, l)\n",
    "    while np.abs(np.linalg.norm(x_cur - x_new)) > eps and np.linalg.norm(dF(x_new, l)) > eps:\n",
    "        step_counter += 1\n",
    "        if step_counter > 10000:\n",
    "            raise Exception('For eps = %f and alpha = %f method diverges :('%(eps, alpha))\n",
    "        if np.min(x_cur) < -np.pi or np.max(x_cur) > np.pi:\n",
    "            raise Exception('For eps = %f and alpha = %f method comes out from the definition area:('%(eps, alpha))\n",
    "        x_cur = x_new\n",
    "        x_new = x_new = x_cur - alpha * dF(x_cur, l)\n",
    "    print('Optimal solution for eps = %f, alpha = %f founded'%( eps, alpha))\n",
    "    print('x_optimal =',(x_cur))"
   ]
  },
  {
   "cell_type": "code",
   "execution_count": 71,
   "metadata": {
    "scrolled": true
   },
   "outputs": [],
   "source": [
    "def newton_method(x_start, eps=1, alpha=1):\n",
    "    step_counter = 0\n",
    "    x_cur = x_start\n",
    "    x_new = x_cur - alpha * F(x_cur, l) / dF(x_cur, l)\n",
    "    while np.abs(np.linalg.norm(x_cur - x_new)) > eps and np.linalg.norm(F(x_new, l)) > eps:\n",
    "        step_counter += 1\n",
    "        if step_counter > 10000:\n",
    "            raise Exception('For eps = %f and alpha = %f method diverges :('%(eps, alpha))\n",
    "        if np.min(x_cur) < -np.pi or np.max(x_cur) > np.pi:\n",
    "            raise Exception('For eps = %f and alpha = %f method comes out from the definition area:('%(eps, alpha))\n",
    "        x_cur = x_new\n",
    "        x_new = x_cur - alpha * F(x_cur, l) / dF(x_cur, l)\n",
    "    print('Optimal solution for eps = %f, alpha = %f founded'%( eps, alpha))\n",
    "    print('x_optimal =',(x_cur))"
   ]
  },
  {
   "cell_type": "code",
   "execution_count": 85,
   "metadata": {},
   "outputs": [
    {
     "name": "stdout",
     "output_type": "stream",
     "text": [
      "Optimal solution for eps = 0.000000, alpha = 0.100000 founded\n",
      "x_optimal = [1.57079633e+00 2.26893082e-08]\n",
      "Optimal solution for eps = 0.000000, alpha = 0.010000 founded\n",
      "x_optimal = [      -inf 1.55508836]\n"
     ]
    },
    {
     "name": "stderr",
     "output_type": "stream",
     "text": [
      "/home/yanskii/anaconda3/lib/python3.7/site-packages/ipykernel_launcher.py:4: RuntimeWarning: divide by zero encountered in true_divide\n",
      "  after removing the cwd from sys.path.\n",
      "/home/yanskii/anaconda3/lib/python3.7/site-packages/ipykernel_launcher.py:12: RuntimeWarning: divide by zero encountered in true_divide\n",
      "  if sys.path[0] == '':\n",
      "/home/yanskii/anaconda3/lib/python3.7/site-packages/ipykernel_launcher.py:5: RuntimeWarning: invalid value encountered in subtract\n",
      "  \"\"\"\n"
     ]
    }
   ],
   "source": [
    "gradient_descent(x_start, 1e-10, 1e-1)\n",
    "newton_method(x_start, 1e-10, 1e-2)"
   ]
  },
  {
   "cell_type": "markdown",
   "metadata": {},
   "source": [
    "On normal input and functions method works."
   ]
  },
  {
   "cell_type": "code",
   "execution_count": 11,
   "metadata": {},
   "outputs": [],
   "source": [
    "def F(x):\n",
    "    return np.cos(x) - x ** 3\n",
    "\n",
    "def dF(x):\n",
    "    return -np.sin(x) - 3 * x ** 2\n",
    "\n",
    "x_start = 0.5"
   ]
  },
  {
   "cell_type": "code",
   "execution_count": 12,
   "metadata": {},
   "outputs": [],
   "source": [
    "def F(x):\n",
    "    return (x + 5) ** 2\n",
    "\n",
    "def dF(x):\n",
    "    return 2 * (x + 5)\n",
    "\n",
    "x_start = 3"
   ]
  },
  {
   "cell_type": "code",
   "execution_count": 20,
   "metadata": {},
   "outputs": [],
   "source": [
    "def test_gradient_descent(x_start, eps=1e-4, alpha = 1e-2):\n",
    "    step_counter = 0\n",
    "    x_cur = x_start\n",
    "    x_new = x_cur - alpha * dF(x_cur)\n",
    "    while np.abs(x_cur - x_new) > eps and np.abs(F(x_new) - F(x_cur)) > eps:\n",
    "        step_counter += 1\n",
    "        if step_counter > 10000:\n",
    "            raise Exception('For eps = %f and alpha = %f method diverges :('%(eps, alpha))\n",
    "        x_cur = x_new\n",
    "        x_new = x_new = x_cur - alpha * dF(x_cur)\n",
    "    print('Optimal solution for eps = %f, alpha = %f founded'%( eps, alpha))\n",
    "    print('x_optimal =',(x_cur))"
   ]
  },
  {
   "cell_type": "code",
   "execution_count": 18,
   "metadata": {},
   "outputs": [],
   "source": [
    "def test_newton_method(x_start, eps=1e-10, alpha=1):\n",
    "    step_counter = 0\n",
    "    x_cur = x_start\n",
    "    x_new = x_cur - F(x_cur) / dF(x_cur)\n",
    "    while np.abs(np.abs(x_cur - x_new)) > eps and np.linalg.norm(F(x_new)) > eps:\n",
    "        step_counter += 1\n",
    "        if step_counter > 10000:\n",
    "            raise Exception('For eps = %f and alpha = %f method diverges :('%(eps, alpha))\n",
    "        x_cur = x_new\n",
    "        x_new = x_cur - F(x_cur) / dF(x_cur)\n",
    "    print('Optimal solution for eps = %f, alpha = %f founded'%( eps, alpha))\n",
    "    print('x_optimal =',(x_cur))"
   ]
  },
  {
   "cell_type": "code",
   "execution_count": 23,
   "metadata": {
    "scrolled": true
   },
   "outputs": [
    {
     "name": "stdout",
     "output_type": "stream",
     "text": [
      "Optimal solution for eps = 0.000100, alpha = 0.010000 founded\n",
      "x_optimal = -4.949784824391848\n",
      "Optimal solution for eps = 0.000000, alpha = 1.000000 founded\n",
      "x_optimal = -4.9999847412109375\n"
     ]
    }
   ],
   "source": [
    "test_gradient_descent(x_start, 1e-4, 1e-2)\n",
    "test_newton_method(x_start, 1e-10, 1)"
   ]
  },
  {
   "cell_type": "code",
   "execution_count": 17,
   "metadata": {},
   "outputs": [],
   "source": [
    "def hessian_matrix(x, l):\n",
    "    return np.array([])"
   ]
  }
 ],
 "metadata": {
  "kernelspec": {
   "display_name": "Python 3",
   "language": "python",
   "name": "python3"
  },
  "language_info": {
   "codemirror_mode": {
    "name": "ipython",
    "version": 3
   },
   "file_extension": ".py",
   "mimetype": "text/x-python",
   "name": "python",
   "nbconvert_exporter": "python",
   "pygments_lexer": "ipython3",
   "version": "3.7.0"
  }
 },
 "nbformat": 4,
 "nbformat_minor": 2
}
